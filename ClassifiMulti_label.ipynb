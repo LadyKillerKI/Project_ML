{
 "cells": [
  {
   "cell_type": "code",
   "execution_count": 3,
   "id": "92f48134-2c52-470d-a10d-cc77bd240b53",
   "metadata": {},
   "outputs": [
    {
     "data": {
      "text/plain": [
       "Pipeline(steps=[('bow',\n",
       "                 CountVectorizer(analyzer=<function text_process at 0x000002993BF1DDC0>)),\n",
       "                ('tfidf', TfidfTransformer()),\n",
       "                ('model', SVC(C=2.0, probability=True))])"
      ]
     },
     "execution_count": 3,
     "metadata": {},
     "output_type": "execute_result"
    }
   ],
   "source": [
    "import pandas as pd\n",
    "from sklearn.feature_extraction.text import CountVectorizer, TfidfTransformer\n",
    "from sklearn.naive_bayes import MultinomialNB\n",
    "from sklearn.svm import SVC\n",
    "from sklearn.multiclass import OneVsRestClassifier\n",
    "from sklearn.metrics import classification_report\n",
    "from sklearn.model_selection import train_test_split, StratifiedShuffleSplit\n",
    "from sklearn.pipeline import Pipeline\n",
    "import pickle\n",
    "from TextPreprocess import text_process\n",
    "\n",
    "df = pd.read_csv(r'data.csv', names=['label', 'title'], encoding='utf-8')\n",
    "# print(df.groupby('label').describe())\n",
    "\n",
    "# # Split data\n",
    "# Lấy mẫu Stratified\n",
    "stratified = StratifiedShuffleSplit(test_size=0.3)\n",
    "for train_index, test_index in stratified.split(df['title'], df['label']):\n",
    "    strat_train_set = df.loc[train_index]\n",
    "    strat_test_set = df.loc[test_index]\n",
    "\n",
    "msg_train, label_train = strat_train_set['title'], strat_train_set['label']\n",
    "msg_test, label_test = strat_test_set['title'], strat_test_set['label']\n",
    "\n",
    "pipeline2 = Pipeline([\n",
    "    ('bow', CountVectorizer(analyzer=text_process)),\n",
    "    ('tfidf', TfidfTransformer()),\n",
    "    ('model', SVC(kernel='rbf', C=2.0, probability=True))\n",
    "])\n",
    "pipeline2.fit(msg_train, label_train)"
   ]
  },
  {
   "cell_type": "code",
   "execution_count": 5,
   "id": "2f2662d4-0b60-4053-9356-3f98b2729e37",
   "metadata": {},
   "outputs": [
    {
     "name": "stdout",
     "output_type": "stream",
     "text": [
      "Mô hình Support vector machine: \n",
      "              precision    recall  f1-score   support\n",
      "\n",
      "           1       0.60      0.69      0.64       600\n",
      "           2       0.77      0.76      0.76       600\n",
      "           3       0.82      0.80      0.81       600\n",
      "           4       0.88      0.84      0.86       600\n",
      "           5       0.79      0.79      0.79       600\n",
      "           6       0.80      0.76      0.78       600\n",
      "           7       0.80      0.81      0.80       600\n",
      "           8       0.79      0.80      0.80       600\n",
      "           9       0.96      0.91      0.93       600\n",
      "          10       0.68      0.71      0.70       600\n",
      "\n",
      "    accuracy                           0.79      6000\n",
      "   macro avg       0.79      0.78      0.79      6000\n",
      "weighted avg       0.79      0.79      0.79      6000\n",
      "\n"
     ]
    }
   ],
   "source": [
    "predictions2 = pipeline2.predict(msg_test)\n",
    "\n",
    "# print(classification_report(label_test, predictions))\n",
    "print(\"Mô hình Support vector machine: \")\n",
    "print(classification_report(label_test, predictions2))"
   ]
  },
  {
   "cell_type": "code",
   "execution_count": 17,
   "id": "fa77ea7a-f959-4cb2-87f8-127ef4b78325",
   "metadata": {},
   "outputs": [],
   "source": [
    "predict = pipeline2.predict_proba(msg_test)"
   ]
  },
  {
   "cell_type": "code",
   "execution_count": 37,
   "id": "78b1494c-54f4-4bd2-8e36-0182e01c5db0",
   "metadata": {},
   "outputs": [],
   "source": [
    "from TextPreprocess import predicts\n",
    "def predictMultiLabel(predict):\n",
    "    a = []\n",
    "    for i in range(10):\n",
    "        if predict[i] >= 2.5e-01:\n",
    "            a.append(predicts([i+1]))\n",
    "    if len(a) == 0:\n",
    "        a.append(predicts(predict.argmax() + 1))\n",
    "    return a"
   ]
  },
  {
   "cell_type": "code",
   "execution_count": 21,
   "id": "4d7b5e8c-bae4-4ffc-abc1-20a102db2436",
   "metadata": {},
   "outputs": [
    {
     "data": {
      "text/plain": [
       "array([[1.53212669e-02, 1.19668555e-01, 3.76751156e-03, 3.13185402e-03,\n",
       "        1.04627550e-02, 6.38673251e-01, 1.02747725e-01, 3.79685025e-03,\n",
       "        8.41480527e-04, 1.01588750e-01],\n",
       "       [8.78876350e-03, 2.47284615e-01, 3.99184842e-03, 1.25563793e-03,\n",
       "        6.70940027e-01, 2.04565854e-02, 2.58124310e-03, 1.57633368e-03,\n",
       "        5.72386293e-03, 3.74010829e-02],\n",
       "       [1.00424067e-03, 2.70445432e-05, 9.98679718e-01, 2.62455001e-05,\n",
       "        1.51122104e-05, 3.63788383e-05, 1.12540528e-04, 1.95181355e-05,\n",
       "        6.18860342e-06, 7.30126842e-05],\n",
       "       [3.01900010e-01, 1.44467194e-01, 2.43285930e-02, 8.92301775e-03,\n",
       "        1.13558063e-01, 3.26123099e-02, 2.35391757e-01, 1.07963714e-01,\n",
       "        9.33586609e-03, 2.15194760e-02],\n",
       "       [3.05326682e-01, 1.91610662e-02, 2.89284905e-02, 2.71374358e-02,\n",
       "        6.95205667e-02, 1.58059181e-01, 6.53064141e-02, 2.73363636e-01,\n",
       "        3.94386731e-03, 4.92526609e-02],\n",
       "       [6.29131616e-01, 1.28980255e-02, 8.57431050e-03, 1.82908123e-02,\n",
       "        9.61570282e-03, 6.50285573e-03, 8.90863184e-03, 2.46243122e-01,\n",
       "        1.33602045e-02, 4.64747187e-02],\n",
       "       [6.51300162e-04, 9.94371709e-01, 2.19708098e-04, 1.16234297e-04,\n",
       "        2.96729471e-03, 2.22013642e-04, 1.44317643e-04, 1.23769111e-04,\n",
       "        1.08329614e-04, 1.07532415e-03],\n",
       "       [4.85494291e-02, 8.92074585e-02, 7.08335117e-02, 1.63314280e-02,\n",
       "        3.12518675e-02, 3.67292892e-02, 3.81540920e-01, 1.29889532e-01,\n",
       "        1.94091318e-02, 1.76257433e-01],\n",
       "       [9.53621518e-01, 9.08675972e-03, 2.51095253e-02, 2.40626461e-03,\n",
       "        1.04044443e-03, 9.89891088e-04, 2.08914188e-03, 6.13271977e-04,\n",
       "        9.89990966e-04, 4.05319190e-03],\n",
       "       [7.23257523e-08, 4.37619819e-08, 2.40203640e-08, 9.99878896e-01,\n",
       "        3.69271890e-08, 4.05466883e-08, 4.55654886e-07, 1.12441509e-06,\n",
       "        3.01473923e-08, 1.19276544e-04],\n",
       "       [7.98790019e-03, 6.94531362e-04, 1.03797607e-03, 2.25448394e-03,\n",
       "        2.47548794e-03, 3.80028271e-03, 8.80024084e-04, 2.25940919e-01,\n",
       "        6.11916925e-04, 7.54316477e-01],\n",
       "       [3.09601407e-02, 7.91028290e-03, 9.21939015e-03, 6.61327940e-03,\n",
       "        7.92715871e-01, 1.15191296e-02, 1.19734791e-02, 9.01047285e-02,\n",
       "        4.04476663e-03, 3.49389318e-02],\n",
       "       [2.39547384e-01, 2.51560101e-03, 1.40083051e-03, 7.63292446e-02,\n",
       "        9.67127181e-02, 2.80460697e-02, 1.25372451e-03, 5.43523247e-01,\n",
       "        6.31506895e-03, 4.35611083e-03],\n",
       "       [4.70819290e-01, 1.56502953e-02, 1.12549550e-01, 7.84701701e-02,\n",
       "        2.15767555e-02, 3.22319756e-02, 1.73217590e-01, 6.11694485e-02,\n",
       "        7.95009445e-03, 2.63648309e-02],\n",
       "       [5.63756313e-04, 6.85357255e-05, 8.79965664e-05, 9.97947383e-01,\n",
       "        1.69326357e-04, 3.27901893e-04, 5.14433251e-05, 6.19271118e-05,\n",
       "        5.16950047e-05, 6.70034506e-04],\n",
       "       [5.56918837e-03, 7.41434997e-04, 9.05511091e-04, 6.49578783e-04,\n",
       "        4.38580005e-03, 9.82427648e-01, 4.61227623e-04, 1.00660311e-03,\n",
       "        2.06005612e-03, 1.79295195e-03],\n",
       "       [2.91777430e-04, 4.89673737e-04, 1.75405983e-04, 2.49379014e-02,\n",
       "        3.09318103e-04, 1.56785356e-02, 8.44914223e-04, 9.14696337e-04,\n",
       "        1.25626345e-04, 9.56232151e-01],\n",
       "       [2.16367739e-05, 1.45451701e-04, 5.63585879e-06, 4.34756609e-04,\n",
       "        5.77207483e-06, 2.72613281e-04, 6.72818645e-05, 4.26754700e-02,\n",
       "        1.90905346e-05, 9.56352291e-01],\n",
       "       [5.13854663e-04, 6.36114541e-05, 2.40367948e-04, 2.43632179e-04,\n",
       "        6.59101115e-04, 1.19789098e-04, 1.54013286e-03, 9.93718920e-01,\n",
       "        2.73566426e-05, 2.87323439e-03],\n",
       "       [1.23673582e-02, 3.78497892e-03, 8.27494168e-03, 2.22144643e-01,\n",
       "        3.57368010e-03, 1.96827122e-02, 7.12469419e-01, 2.75634313e-03,\n",
       "        2.97382119e-03, 1.19721031e-02]])"
      ]
     },
     "execution_count": 21,
     "metadata": {},
     "output_type": "execute_result"
    }
   ],
   "source": [
    "predict[:20, :]"
   ]
  },
  {
   "cell_type": "code",
   "execution_count": 38,
   "id": "71750ae6-a4c2-44a1-ac90-23428451f358",
   "metadata": {},
   "outputs": [
    {
     "name": "stdout",
     "output_type": "stream",
     "text": [
      "['Kinh doanh']\n",
      "['Khoa học']\n",
      "['Giải trí']\n",
      "['Đời sống']\n",
      "['Đời sống', 'Sức khỏe']\n",
      "['Đời sống']\n",
      "['Du lịch']\n",
      "['Pháp luật']\n",
      "['Đời sống']\n",
      "['Giáo dục']\n",
      "['Thời sự']\n",
      "['Khoa học']\n",
      "['Sức khỏe']\n",
      "['Đời sống']\n",
      "['Giáo dục']\n",
      "['Kinh doanh']\n",
      "['Thời sự']\n",
      "['Thời sự']\n",
      "['Sức khỏe']\n",
      "['Pháp luật']\n",
      "['Thời sự']\n",
      "['Đời sống', 'Du lịch', 'Giải trí']\n",
      "['Thể thao']\n",
      "['Đời sống', 'Giải trí']\n",
      "['Pháp luật']\n",
      "['Đời sống', 'Kinh doanh']\n",
      "['Kinh doanh']\n",
      "['Đời sống']\n",
      "['Kinh doanh', 'Thời sự']\n",
      "['Thời sự']\n",
      "['Giải trí']\n",
      "['Giáo dục']\n",
      "['Khoa học', 'Kinh doanh']\n",
      "['Thể thao']\n",
      "['Kinh doanh']\n",
      "['Giáo dục', 'Pháp luật']\n",
      "['Khoa học']\n",
      "['Du lịch']\n",
      "['Kinh doanh']\n",
      "['Đời sống']\n",
      "['Thời sự']\n",
      "['Thời sự']\n",
      "['Giải trí']\n",
      "['Du lịch']\n",
      "['Thời sự']\n",
      "['Giáo dục']\n",
      "['Đời sống']\n",
      "['Khoa học']\n",
      "['Thể thao']\n",
      "['Sức khỏe']\n"
     ]
    }
   ],
   "source": [
    "for i in range(50):\n",
    "    print(predictMultiLabel(predict[i, :]))"
   ]
  },
  {
   "cell_type": "code",
   "execution_count": null,
   "id": "b677aa27-f6d2-428c-88ce-f2c2ca5fadb8",
   "metadata": {},
   "outputs": [],
   "source": []
  }
 ],
 "metadata": {
  "kernelspec": {
   "display_name": "Python 3 (ipykernel)",
   "language": "python",
   "name": "python3"
  },
  "language_info": {
   "codemirror_mode": {
    "name": "ipython",
    "version": 3
   },
   "file_extension": ".py",
   "mimetype": "text/x-python",
   "name": "python",
   "nbconvert_exporter": "python",
   "pygments_lexer": "ipython3",
   "version": "3.8.8rc1"
  }
 },
 "nbformat": 4,
 "nbformat_minor": 5
}
