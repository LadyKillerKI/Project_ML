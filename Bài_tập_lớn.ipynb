{
 "cells": [
  {
   "cell_type": "markdown",
   "id": "f04a0832-fbba-4322-bbff-ece25128d537",
   "metadata": {},
   "source": [
    "<h1><center>Bài tập lớn nhập môn học máy và khai phá dữ liệu</center></h1>\n",
    "<h2><center>Đề tài: Phân loại tiêu đề bài báo</center></h2>"
   ]
  },
  {
   "cell_type": "markdown",
   "id": "718254cd-c64d-46aa-8906-eb16c6876d0c",
   "metadata": {},
   "source": [
    "### Import thư viện"
   ]
  },
  {
   "cell_type": "code",
   "execution_count": 1,
   "id": "162b5aca-a0c6-46ff-a047-f06794e5a751",
   "metadata": {},
   "outputs": [],
   "source": [
    "import pandas as pd\n",
    "from sklearn.feature_extraction.text import CountVectorizer, TfidfTransformer\n",
    "from sklearn.naive_bayes import MultinomialNB\n",
    "from sklearn.svm import SVC\n",
    "from sklearn.multiclass import OneVsRestClassifier\n",
    "from sklearn.metrics import classification_report\n",
    "from sklearn.model_selection import train_test_split, StratifiedShuffleSplit, learning_curve\n",
    "from sklearn.pipeline import Pipeline\n",
    "import pickle\n",
    "from TextPreprocess import text_process\n",
    "import string\n",
    "from underthesea import word_tokenize\n",
    "from tqdm import tqdm\n",
    "import time"
   ]
  },
  {
   "cell_type": "markdown",
   "id": "8c48bfa5-761a-4b07-96db-7b7aa25f59d6",
   "metadata": {},
   "source": [
    "### Lấy dữ liệu"
   ]
  },
  {
   "cell_type": "code",
   "execution_count": 2,
   "id": "f5370229-4c1c-4245-926b-1c830c826110",
   "metadata": {},
   "outputs": [],
   "source": [
    "df = pd.read_csv(r'data/datatrain/data.csv', names=['label', 'title'], encoding='utf-8')"
   ]
  },
  {
   "cell_type": "markdown",
   "id": "21e185ce-26c4-42e2-9bb7-88aaa7c5bc1d",
   "metadata": {},
   "source": [
    "### Mô tả dữ liệu"
   ]
  },
  {
   "cell_type": "code",
   "execution_count": 4,
   "id": "426d56bb-09ff-4f90-9043-9f34349506a2",
   "metadata": {},
   "outputs": [
    {
     "data": {
      "text/html": [
       "<div>\n",
       "<style scoped>\n",
       "    .dataframe tbody tr th:only-of-type {\n",
       "        vertical-align: middle;\n",
       "    }\n",
       "\n",
       "    .dataframe tbody tr th {\n",
       "        vertical-align: top;\n",
       "    }\n",
       "\n",
       "    .dataframe thead tr th {\n",
       "        text-align: left;\n",
       "    }\n",
       "\n",
       "    .dataframe thead tr:last-of-type th {\n",
       "        text-align: right;\n",
       "    }\n",
       "</style>\n",
       "<table border=\"1\" class=\"dataframe\">\n",
       "  <thead>\n",
       "    <tr>\n",
       "      <th></th>\n",
       "      <th colspan=\"4\" halign=\"left\">title</th>\n",
       "    </tr>\n",
       "    <tr>\n",
       "      <th></th>\n",
       "      <th>count</th>\n",
       "      <th>unique</th>\n",
       "      <th>top</th>\n",
       "      <th>freq</th>\n",
       "    </tr>\n",
       "    <tr>\n",
       "      <th>label</th>\n",
       "      <th></th>\n",
       "      <th></th>\n",
       "      <th></th>\n",
       "      <th></th>\n",
       "    </tr>\n",
       "  </thead>\n",
       "  <tbody>\n",
       "    <tr>\n",
       "      <th>1</th>\n",
       "      <td>2000</td>\n",
       "      <td>1981</td>\n",
       "      <td>Khẩu trang</td>\n",
       "      <td>5</td>\n",
       "    </tr>\n",
       "    <tr>\n",
       "      <th>2</th>\n",
       "      <td>2000</td>\n",
       "      <td>2000</td>\n",
       "      <td>Băng rừng leo đỉnh Nhìu Cồ San</td>\n",
       "      <td>1</td>\n",
       "    </tr>\n",
       "    <tr>\n",
       "      <th>3</th>\n",
       "      <td>2000</td>\n",
       "      <td>1995</td>\n",
       "      <td>Thúy Diễm</td>\n",
       "      <td>2</td>\n",
       "    </tr>\n",
       "    <tr>\n",
       "      <th>4</th>\n",
       "      <td>2000</td>\n",
       "      <td>1992</td>\n",
       "      <td>Thử thách suy luận với bốn câu đố</td>\n",
       "      <td>2</td>\n",
       "    </tr>\n",
       "    <tr>\n",
       "      <th>5</th>\n",
       "      <td>2000</td>\n",
       "      <td>2000</td>\n",
       "      <td>Hệ thống giúp tàu không trượt bánh khi trời mưa</td>\n",
       "      <td>1</td>\n",
       "    </tr>\n",
       "    <tr>\n",
       "      <th>6</th>\n",
       "      <td>2000</td>\n",
       "      <td>1978</td>\n",
       "      <td>Giá xăng</td>\n",
       "      <td>5</td>\n",
       "    </tr>\n",
       "    <tr>\n",
       "      <th>7</th>\n",
       "      <td>2000</td>\n",
       "      <td>1995</td>\n",
       "      <td>Đốt nhà mình</td>\n",
       "      <td>2</td>\n",
       "    </tr>\n",
       "    <tr>\n",
       "      <th>8</th>\n",
       "      <td>2000</td>\n",
       "      <td>1987</td>\n",
       "      <td>Nguyên nhân</td>\n",
       "      <td>3</td>\n",
       "    </tr>\n",
       "    <tr>\n",
       "      <th>9</th>\n",
       "      <td>2000</td>\n",
       "      <td>1990</td>\n",
       "      <td>Messi</td>\n",
       "      <td>4</td>\n",
       "    </tr>\n",
       "    <tr>\n",
       "      <th>10</th>\n",
       "      <td>2000</td>\n",
       "      <td>1989</td>\n",
       "      <td>Nhiều tỉnh</td>\n",
       "      <td>3</td>\n",
       "    </tr>\n",
       "  </tbody>\n",
       "</table>\n",
       "</div>"
      ],
      "text/plain": [
       "      title                                                              \n",
       "      count unique                                               top freq\n",
       "label                                                                    \n",
       "1      2000   1981                                        Khẩu trang    5\n",
       "2      2000   2000                    Băng rừng leo đỉnh Nhìu Cồ San    1\n",
       "3      2000   1995                                         Thúy Diễm    2\n",
       "4      2000   1992                 Thử thách suy luận với bốn câu đố    2\n",
       "5      2000   2000   Hệ thống giúp tàu không trượt bánh khi trời mưa    1\n",
       "6      2000   1978                                          Giá xăng    5\n",
       "7      2000   1995                                      Đốt nhà mình    2\n",
       "8      2000   1987                                       Nguyên nhân    3\n",
       "9      2000   1990                                             Messi    4\n",
       "10     2000   1989                                        Nhiều tỉnh    3"
      ]
     },
     "execution_count": 4,
     "metadata": {},
     "output_type": "execute_result"
    }
   ],
   "source": [
    "df.groupby('label').describe()"
   ]
  },
  {
   "cell_type": "markdown",
   "id": "7320a1c3-8cab-4ba9-95a8-20c2cf28695c",
   "metadata": {},
   "source": [
    "### Tiền xử lý dữ liệu"
   ]
  },
  {
   "cell_type": "markdown",
   "id": "0ef9bfca-825c-4c21-bb61-220b7c80ee33",
   "metadata": {},
   "source": [
    "+ Vấn đề chính bây giờ là dữ liệu đang ở định dạng văn bản (string). Thuật toán phân loại (classification) chỉ hoạt động dưới dạng dữ liệu số hóa (numeric), từ đó yêu cầu phải chuyển đổi dữ liệu đầu vào trên (chuỗi kí tự) thành vector (chuỗi số) để các thuật toán học máy có thể hiểu được\n",
    "+ Bước đầu tiên, chia các đoạn tin nhắn thành các từ riêng lẻ, rồi lưu chúng vào list\n",
    "+ Tách từ trong câu thành từ đơn, từ ghép nhằm tăng ý nghĩa của từ, giảm features. Dùng thư viện underthesea\n",
    "+ Chuyển các số phần trăm (vd 20%, 10%, 0.5%...) thành 'percents' nhằm giảm features\n",
    "+ Xóa các kí tự \n",
    "+ Chuyển các số thành 'numbers', ngày tháng thành 'days' nhằm giảm features\n",
    "+ Loại bỏ stopword "
   ]
  },
  {
   "cell_type": "code",
   "execution_count": 5,
   "id": "a0b85fb3-c3cf-46d9-94e7-fe4c4d868c81",
   "metadata": {},
   "outputs": [
    {
     "data": {
      "text/plain": [
       "'!\"#$%&\\'()*+,-./:;<=>?@[\\\\]^_`{|}~'"
      ]
     },
     "execution_count": 5,
     "metadata": {},
     "output_type": "execute_result"
    }
   ],
   "source": [
    "string.punctuation"
   ]
  },
  {
   "cell_type": "code",
   "execution_count": 3,
   "id": "21d359c6-e46f-44af-a561-cac54113025b",
   "metadata": {},
   "outputs": [],
   "source": [
    "# Hàm lấy stopword\n",
    "def stop_word():\n",
    "    file = open(r'stopword.txt', 'r', encoding='utf-8')\n",
    "    # file = open(r'vietnamese-stopwords.txt', 'r', encoding='utf-8')\n",
    "    stopwords = []\n",
    "    for line in file:\n",
    "        stopwords.append(line.replace(\"\\n\", \"\"))\n",
    "    file.close()\n",
    "\n",
    "    punc = string.punctuation.replace(\"_\", \"\").replace(\"/\", \"\").replace(\"%\", \"\") + '‘’'\n",
    "    return stopwords, punc"
   ]
  },
  {
   "cell_type": "code",
   "execution_count": 4,
   "id": "29b1d51d-08bd-4176-b68e-ddea1aeb77e9",
   "metadata": {},
   "outputs": [],
   "source": [
    "# Hàm tiền xử lý dữ liệu: trả về list các từ sau khi được xử lý\n",
    "def text_process(line):\n",
    "    stopwords, punc = stop_word()\n",
    "    a = line.split()\n",
    "    for i, x in enumerate(a):\n",
    "        for j in a[i]:\n",
    "            if j == '%':\n",
    "                a[i] = 'percents'\n",
    "                break\n",
    "    line = ' '.join(a)\n",
    "    str = word_tokenize(line, format=\"text\").lower()\n",
    "    # str = line.lower()\n",
    "    words = [char for char in str if char not in punc]\n",
    "    words = ''.join(words)\n",
    "    words = words.split()\n",
    "    n = len(words)\n",
    "    for i in range(n):\n",
    "        for j in words[i]:\n",
    "            if j == '/':\n",
    "                words[i] = 'days'\n",
    "                break\n",
    "        try:\n",
    "            float(words[i])\n",
    "            words[i] = 'numbers'\n",
    "        except:\n",
    "            continue\n",
    "\n",
    "    word = []\n",
    "    for w in words:\n",
    "        if w not in stopwords:\n",
    "            word.append(w)\n",
    "\n",
    "    return word"
   ]
  },
  {
   "cell_type": "markdown",
   "id": "4accb985-7d99-4a46-a9a0-6fe271132f14",
   "metadata": {},
   "source": [
    "# Thuật toán Text search"
   ]
  },
  {
   "cell_type": "markdown",
   "id": "db3092b3-526c-44ff-a3d6-2d1b754e84fe",
   "metadata": {},
   "source": [
    "### Vectorization (vector hóa)"
   ]
  },
  {
   "cell_type": "markdown",
   "id": "d94f831c-1b7b-42e1-b984-afbef700c17a",
   "metadata": {},
   "source": [
    "Bây giờ các văn bản đã được mã hóa, chúng ta cần chuyển đổi chúng thành các vector để các thuật toán học máy trong SciKit Learn có thể làm việc được.\n",
    "\n",
    "Chúng ta sẽ thực hiện điều đó trong 3 bước bằng cách sử dụng mô hình bag-of-words:\n",
    "1. Đếm xem bao nhiêu lần một từ xuất hiện trong mỗi đoạn tin nhắn - được gọi là hiểu tần suất thuật ngữ (Known as term frequency)\n",
    "2. Xuy xét các số lượng trên, các mã xuất hiện thường xuyên sẽ có trọng số thấp hơn (inverse document frequency)\n",
    "3. Chuẩn hóa các vector thành độ dài đơn vị, để tóm tắt từ độ dài văn bản ban đầu (L2 norm)\n",
    "+ Chuẩn $l_2$ của vector $ \\textbf{v} $  chứa $n$ phần tử:\n",
    "$$ \\textbf{||v|| = $\\sqrt{|v_0|^2 + |v_1|^2 + ... + |v_n|^2}$} $$"
   ]
  },
  {
   "cell_type": "markdown",
   "id": "5d939390-e9e9-4463-9544-d703af0ba8ea",
   "metadata": {},
   "source": [
    "Mỗi vector đều có rất nhiều chiều, ta sẽ sử dụng **CountVectorizer** của thư viện SciKit-Learn. Model này sẽ chuyển đổi các bộ văn bản thành một ma trận số lượng mã hóa\n",
    "\n",
    "Có thể hình dung đây là một ma trận 2 chiều. Trong đó chiều thứ nhất là toàn bộ từ vựng (1 hàng tương ứng với 1 từ), còn chiều còn lại là các văn bản thực tế (mỗi cột là một tin nhắn văn bản)\n",
    "\n",
    "Ví dụ:\n",
    "<table border = “1“>\n",
    "<tr>\n",
    "<th></th> <th>Message 1</th> <th>Message 2</th> <th>...</th> <th>Message N</th> \n",
    "</tr>\n",
    "<tr>\n",
    "<td><b>Word 1 Count</b></td><td>0</td><td>1</td><td>...</td><td>0</td>\n",
    "</tr>\n",
    "<tr>\n",
    "<td><b>Word 2 Count</b></td><td>0</td><td>0</td><td>...</td><td>0</td>\n",
    "</tr>\n",
    "<tr>\n",
    "<td><b>...</b></td> <td>1</td><td>2</td><td>...</td><td>0</td>\n",
    "</tr>\n",
    "<tr>\n",
    "<td><b>Word N Count</b></td> <td>0</td><td>1</td><td>...</td><td>1</td>\n",
    "</tr>\n",
    "</table>\n",
    "Bởi vì có rất nhiều tin nhắn, nên số lượng số 0 xuất hiện trong ma trận là rất nhiều, do đó ma trận trả về sẽ là một ma trận thưa thớt (Sparse Matrix)"
   ]
  },
  {
   "cell_type": "markdown",
   "id": "6dc92572-fac6-46cd-9b84-032853a033ca",
   "metadata": {},
   "source": [
    "Có rất nhiều đối số và tham số có thể truyền vào **CountVectorizer**, trong trường hợp này ta chỉ định **analyzer** chính là hàm **text_process** ta đã tạo ra trước đó"
   ]
  },
  {
   "cell_type": "markdown",
   "id": "a3eec081-6803-4247-883f-2f8109257d0e",
   "metadata": {},
   "source": [
    "#### Vector hóa với thư viện scikit-learn"
   ]
  },
  {
   "cell_type": "code",
   "execution_count": 8,
   "id": "a9da8456-1032-4a1f-b96d-2d9f40146131",
   "metadata": {},
   "outputs": [],
   "source": [
    "# data_vector = CountVectorizer(analyzer=text_process).fit(df['title'])"
   ]
  },
  {
   "cell_type": "code",
   "execution_count": 9,
   "id": "acb87485-5810-4cd3-94bb-6889f7105b83",
   "metadata": {},
   "outputs": [],
   "source": [
    "# Xem tổng số từ vựng\n",
    "# len(data_vector.vocabulary_)"
   ]
  },
  {
   "cell_type": "code",
   "execution_count": 10,
   "id": "a6503815-588f-4a71-96b0-3f9cb84b7f68",
   "metadata": {},
   "outputs": [],
   "source": [
    "# Thử biểu diễn dữ liệu\n",
    "# data_test = df['title'][1]\n",
    "# print(data_test)\n",
    "# print(text_process(data_test))"
   ]
  },
  {
   "cell_type": "code",
   "execution_count": 11,
   "id": "a1c9a66d-91e4-451f-8cd5-90395c1538dc",
   "metadata": {},
   "outputs": [],
   "source": [
    "# Biểu diễn thành vector\n",
    "# bow = data_vector.transform([data_test])\n",
    "# print(bow)\n",
    "# print(bow.shape)"
   ]
  },
  {
   "cell_type": "markdown",
   "id": "50361b9e-a73e-42e1-80a4-96bcb07d6ceb",
   "metadata": {},
   "source": [
    "Giờ ta sẽ sử dụng **.transform** trên đối tượng đã được biến đổi \"Bag-of-Words (bow_transformer)\" để chuyển đổi dataframe ban đầu thành một Sparse Matrix"
   ]
  },
  {
   "cell_type": "code",
   "execution_count": 12,
   "id": "296a9af1-aa7c-406a-8ec8-aaf178e441f1",
   "metadata": {},
   "outputs": [],
   "source": [
    "# messages_bow = data_vector.transform(df['title'])\n",
    "# messages_bow.shape"
   ]
  },
  {
   "cell_type": "markdown",
   "id": "a7478f16-33e5-46eb-96e7-4236545ec26b",
   "metadata": {},
   "source": [
    "### TF-IDF\n",
    "Sau khi đếm, trọng số và chuẩn hóa thuật ngữ có thể được thực hiện với TF-IDF, sử dụng **TfidfTransformer** của SciKit-Learn\n",
    "### TF-IDF là gì ?\n",
    "Trong truy hồi thông tin, tf-idf (term frequency–inverse document frequency) là một thống kê số học nhằm phản ánh tầm quan trọng của một từ đối với một văn bản trong một tập hợp hay một ngữ liệu văn bản. tf–idf thường dùng dưới dạng là một trọng số trong tìm kiếm truy xuất thông tin, khai thác văn bản, và mô hình hóa người dùng.\n",
    "\n",
    "Giá trị tf–idf tăng tỉ lệ thuận với số lần xuất hiện của một từ trong tài liệu và được bù đắp bởi số lượng tài liệu trong kho ngữ liệu có chứa từ, giúp điều chỉnh thực tế là một số từ xuất hiện nói chung thường xuyên hơn. tf-idf là một trong những lược đồ (scheme) tính trọng số phổ biến nhất hiện nay. \n",
    "1. **TF-term frequency** - tần số xuất hiện của 1 từ trong 1 văn bản. Cách tính như sau:\n",
    "\n",
    "$$\\mbox{tf}(t,d) = \\frac{\\mbox{f}(t,d)}{max\\{\\mbox{f}(w,d): w\\in d\\}}$$\n",
    "+ Kết quả thuộc khoảng $[0,1]$, thuơng của số lần xuất hiện 1 từ trong văn bản và số lần xuất hiện nhiều nhất của 1 từ trong văn bản đó\n",
    "+ $f(t,d)$: Tần suất của từ t trong văn bản $d$\n",
    "+ $max\\{f(w,d): w\\in d\\}$: số lần xuất hiện nhiều nhất của 1 từ trong $d$\n",
    "\n",
    "2. **IDF-inverse document frequency** - Tần số nghịch của một từ trong tập văn bản (corpus). Tính **IDF** để giảm giá trị của những từ phổ biến. Mỗi từ chỉ có 1 **IDF** duy nhất trong tập văn bản. Cách tính như sau: \n",
    "\n",
    "    $$\\mbox{idf}(t,D) = \\log\\frac{|D|}{1+|\\{d\\in D : t\\in d\\}|}$$\n",
    "+ $|D|$: Tổng số văn bản trong D\n",
    "+ $|\\{d\\in D : t\\in d\\}|$: Số văn bản chứa từ nhất định, với điều kiện $t$ xuất hiện trong văn bản $d$\n",
    "\n",
    "Cơ số logarit không thay đổi giá trị của 1 từ mà chỉ thu hẹp khoảng giá trị của từ đó (thay đổi cơ số không ảnh hưởng tới tỷ lệ giữa các IDF). Tuy nhiên thay đổi khoảng giá trị sẽ giúp tỷ lệ IDF và TF tương đồng để dùng cho công thức TF-IDF như bên dưới.\n",
    "\n",
    "$$\\mbox{tfidf}(t,d,D) = \\mbox{tf}(t,d) \\times \\mbox{idf}(t,D)$$\n",
    "\n",
    "Những từ có giá trị TF-IDF cao là những từ xuất hiện nhiều trong văn bản này, và xuất hiện ít trong các văn bản khác. Việc này giúp lọc ra những từ phổ biến và giữ lại những từ có giá trị cao (từ khoá của văn bản đó).\n",
    "\n",
    "##### Ứng dụng\n",
    "IDF có ứng dụng phổ biến nhất trong tìm kiếm. Ví dụ như chúng ta muốn mua hàng ở shopee, chúng ta thực hiện truy vấn: \"Những món quà đẹp tặng người yêu ngày valentine\". Sau khi tách từ, những từ \"người yêu\" và \"valentine\" chắc chắn là những có idf cao nhất trong văn bản trên, từ đó hệ thống sẽ coi những từ trên là từ khóa, lấy tất cả các văn bản có chưa từ \"người yêu\" và \"valentine\" sau đó thực hiện đánh giá và so sánh dựa trên bộ truy vấn\n"
   ]
  },
  {
   "cell_type": "markdown",
   "id": "b038c694-2692-44e3-9a9a-2ba4d1a77585",
   "metadata": {},
   "source": [
    "#### Thực hiện với scikit-learn"
   ]
  },
  {
   "cell_type": "code",
   "execution_count": 13,
   "id": "352229cf-d3a3-4006-8acd-4cbc60689dd3",
   "metadata": {},
   "outputs": [],
   "source": [
    "# tfidf_transformer = TfidfTransformer().fit(messages_bow)"
   ]
  },
  {
   "cell_type": "code",
   "execution_count": 14,
   "id": "c7bdb67f-7df3-47b8-855b-8e95d2c75b74",
   "metadata": {},
   "outputs": [],
   "source": [
    "# Tf/idf với tiều đề \"9 món ăn sáng truyền thống ở Thái Lan\"\n",
    "# tfidf = tfidf_transformer.transform(bow)\n",
    "# print(tfidf) # Tính tfidf của tiêu đề \"9 món ăn sáng truyền thống ngon nhất Thái Lan\""
   ]
  },
  {
   "cell_type": "markdown",
   "id": "b0c870e8-57b6-4a2f-8b54-8bd839ca5b14",
   "metadata": {},
   "source": [
    "# Tách dữ liệu thành training set, validation set, test set"
   ]
  },
  {
   "cell_type": "markdown",
   "id": "03f58dee-c504-4296-adee-0a41029b9a50",
   "metadata": {},
   "source": [
    "#### Lấy mẫu Stratified"
   ]
  },
  {
   "cell_type": "code",
   "execution_count": 15,
   "id": "5b0612dd-3e80-4902-a756-7bacf3b05970",
   "metadata": {},
   "outputs": [],
   "source": [
    "# stratified = StratifiedShuffleSplit(test_size=0.2)\n",
    "# for train_index, test_index in stratified.split(data_processed, df['label']):\n",
    "#     msg_train, msg_test = data_processed[train_index], data_processed[test_index]\n",
    "#     label_train, label_test = df['label'][train_index], df['label'][test_index]"
   ]
  },
  {
   "cell_type": "markdown",
   "id": "f8237997-1fed-45d9-ac32-e90a5e94ff4f",
   "metadata": {},
   "source": [
    "#### Lấy mẫu Random "
   ]
  },
  {
   "cell_type": "code",
   "execution_count": 16,
   "id": "73b3561d-4f5d-4f5b-87f4-e30e4ec10127",
   "metadata": {},
   "outputs": [],
   "source": [
    "# x2, msg_test2, y2, label_test2 = train_test_split(df['title'], df['label'], test_size=0.3)\n",
    "# msg_train2, msg_validation2, label_train2, label_validation2 = train_test_split(x2, y2, test_size=0.25)"
   ]
  },
  {
   "cell_type": "markdown",
   "id": "a4f2baab-a6a2-45ce-9d86-af70f73733b3",
   "metadata": {},
   "source": [
    "# Training model"
   ]
  },
  {
   "cell_type": "code",
   "execution_count": 5,
   "id": "69a724e3-7ef9-4e7e-88f6-e4942b6c815a",
   "metadata": {},
   "outputs": [],
   "source": [
    "pipeline = Pipeline([\n",
    "    ('bow', CountVectorizer(analyzer=text_process)),\n",
    "    ('tfidf', TfidfTransformer())\n",
    "])"
   ]
  },
  {
   "cell_type": "code",
   "execution_count": 6,
   "id": "61a4a2f2-5c37-486b-bab3-f24325a36571",
   "metadata": {},
   "outputs": [
    {
     "name": "stdout",
     "output_type": "stream",
     "text": [
      "(20000, 11733)\n"
     ]
    }
   ],
   "source": [
    "data_processed = pipeline.fit_transform(df['title'], df['label'])\n",
    "print(data_processed.shape)"
   ]
  },
  {
   "cell_type": "code",
   "execution_count": 7,
   "id": "c2c1001f-a46b-44f7-a710-1bd44fae5095",
   "metadata": {},
   "outputs": [],
   "source": [
    "stratified = StratifiedShuffleSplit(test_size=0.2)\n",
    "for train_index, test_index in stratified.split(data_processed, df['label']):\n",
    "    msg_train, msg_test = data_processed[train_index], data_processed[test_index]\n",
    "    label_train, label_test = df['label'][train_index], df['label'][test_index]"
   ]
  },
  {
   "cell_type": "markdown",
   "id": "a25442c0-259a-4639-aa68-536ba5276c3b",
   "metadata": {},
   "source": [
    "# Lựa chọn tham số tối ưu "
   ]
  },
  {
   "cell_type": "markdown",
   "id": "80a0829b-98ff-48ba-b798-28938a3ef3c1",
   "metadata": {},
   "source": [
    "Chỉ dùng tập train để lựa chọn tham số tối ưu."
   ]
  },
  {
   "cell_type": "code",
   "execution_count": 20,
   "id": "dbf49f6e-8fc3-45a7-9ab7-c4c4582f974d",
   "metadata": {},
   "outputs": [],
   "source": [
    "def cross_validation(estimator):\n",
    "    _, train_scores, test_scores = learning_curve(estimator, msg_train, label_train, cv=10, n_jobs=-1, train_sizes=[1.0, ], scoring=\"accuracy\")\n",
    "    test_scores = test_scores[0]\n",
    "    mean, std = test_scores.mean(), test_scores.std()\n",
    "    return mean, std\n",
    "\n",
    "def plot(title, xlabel, X, Y, error, ylabel = \"Accuracy\"):\n",
    "    plt.xlabel(xlabel)\n",
    "    plt.title(title)\n",
    "    plt.grid()\n",
    "    plt.ylabel(ylabel)\n",
    "    \n",
    "    plt.errorbar(X, Y, error, linestyle='None', marker='o')"
   ]
  },
  {
   "cell_type": "markdown",
   "id": "d3c04ec5-8bbd-4553-abb6-bfd0f030ee28",
   "metadata": {},
   "source": [
    "### Đánh giá độ hiệu quả các kernel trong SVM"
   ]
  },
  {
   "cell_type": "code",
   "execution_count": 21,
   "id": "f51b900f-6e77-4e48-8c87-9c07524dcc8b",
   "metadata": {},
   "outputs": [
    {
     "name": "stderr",
     "output_type": "stream",
     "text": [
      "100%|█████████████████████████████████████████████████████████████████████████████████████████████████████████████████████████████████| 4/4 [14:55<00:00, 223.78s/it]\n"
     ]
    }
   ],
   "source": [
    "title = \"thay đổi kernel, C = 1\"\n",
    "xlabel = \"kernel\"\n",
    "X = []\n",
    "Y = []\n",
    "error = []\n",
    "\n",
    "for kernel in tqdm(['linear', 'poly', 'rbf', 'sigmoid']):\n",
    "    # Với mỗi kernel được chọn, \n",
    "    # thực hiện xây dựng mô hình, huấn luyện và đánh giá theo cross-validation\n",
    "    text_clf = SVC(kernel=kernel, C=1.0)\n",
    "    mean, std = cross_validation(text_clf)\n",
    "    X.append(kernel)\n",
    "    Y.append(mean)\n",
    "    error.append(std)"
   ]
  },
  {
   "cell_type": "code",
   "execution_count": 23,
   "id": "f94e1872-c58c-4d5f-a469-a748d0152bab",
   "metadata": {},
   "outputs": [
    {
     "data": {
      "image/png": "[encoded data removed]",
      "text/plain": [
       "<Figure size 432x288 with 1 Axes>"
      ]
     },
     "metadata": {
      "needs_background": "light"
     },
     "output_type": "display_data"
    }
   ],
   "source": [
    "# lưu kết quả ra file ảnh \n",
    "import matplotlib.pyplot as plt\n",
    "plot(title, xlabel, X, Y, error)\n",
    "plt.savefig('images/svm_change_kernel.png', bbox_inches='tight')\n",
    "plt.show()"
   ]
  },
  {
   "cell_type": "markdown",
   "id": "07838c75-2162-42f3-aea2-0895d87310c4",
   "metadata": {},
   "source": [
    "### Đánh giá ảnh hưởng của tham số C trong SVM"
   ]
  },
  {
   "cell_type": "code",
   "execution_count": 24,
   "id": "c879ad19-87ec-46ca-aad5-631023c0f128",
   "metadata": {},
   "outputs": [
    {
     "name": "stderr",
     "output_type": "stream",
     "text": [
      "100%|█████████████████████████████████████████████████████████████████████████████████████████████████████████████████████████████████| 5/5 [24:56<00:00, 299.32s/it]\n"
     ]
    },
    {
     "data": {
      "image/png": "[encoded data removed]",
      "text/plain": [
       "<Figure size 432x288 with 1 Axes>"
      ]
     },
     "metadata": {
      "needs_background": "light"
     },
     "output_type": "display_data"
    }
   ],
   "source": [
    "title = \"Thay đổi C, kernel='rbf'\"\n",
    "xlabel = \"C\"\n",
    "X = []\n",
    "Y = []\n",
    "error = []\n",
    "\n",
    "for C in tqdm([0.5, 1.0, 2.0, 4.0, 8.0]):\n",
    "    # Với từng giá trị C nhận được, \n",
    "    # thực hiện xây dựng mô hình, huấn luyện và đánh giá theo cross-validation\n",
    "    text_clf = SVC(C=C)\n",
    "    mean, std = cross_validation(text_clf)\n",
    "    X.append(str(C))\n",
    "    Y.append(mean)\n",
    "    error.append(std)\n",
    "\n",
    "# lưu kết quả ra file ảnh\n",
    "plot(title, xlabel, X, Y, error)\n",
    "plt.savefig('images/svm_change_C.png', bbox_inches='tight')\n",
    "plt.show()"
   ]
  },
  {
   "cell_type": "markdown",
   "id": "dba8680b-f0f8-45ad-8427-d4f1eccbd59d",
   "metadata": {},
   "source": [
    "### Mô hình SVC với các tham số tối ưu: kernel = 'rbf', C = 2.0"
   ]
  },
  {
   "cell_type": "code",
   "execution_count": 8,
   "id": "664ef4ea-f128-476c-90c0-39272eb10beb",
   "metadata": {},
   "outputs": [],
   "source": [
    "start = time.time()\n",
    "model = SVC(C=2)\n",
    "model.fit(msg_train, label_train)\n",
    "predict = model.predict(msg_test)\n",
    "end = time.time()"
   ]
  },
  {
   "cell_type": "code",
   "execution_count": 9,
   "id": "5004d170-c89a-45c3-820f-8577a980a4a7",
   "metadata": {},
   "outputs": [
    {
     "name": "stdout",
     "output_type": "stream",
     "text": [
      "              precision    recall  f1-score   support\n",
      "\n",
      "           1       0.58      0.69      0.63       400\n",
      "           2       0.76      0.80      0.78       400\n",
      "           3       0.77      0.83      0.80       400\n",
      "           4       0.89      0.84      0.87       400\n",
      "           5       0.77      0.81      0.79       400\n",
      "           6       0.80      0.76      0.78       400\n",
      "           7       0.84      0.76      0.80       400\n",
      "           8       0.81      0.76      0.78       400\n",
      "           9       0.97      0.88      0.92       400\n",
      "          10       0.70      0.70      0.70       400\n",
      "\n",
      "    accuracy                           0.78      4000\n",
      "   macro avg       0.79      0.78      0.79      4000\n",
      "weighted avg       0.79      0.78      0.79      4000\n",
      "\n",
      "Thời gian chạy: 52.95788359642029s\n"
     ]
    }
   ],
   "source": [
    "print(classification_report(label_test, predict))\n",
    "print('Thời gian chạy:', f'{(end - start)}'+'s')"
   ]
  },
  {
   "cell_type": "markdown",
   "id": "aa888728-245d-4abc-ad7d-4edc29443d49",
   "metadata": {},
   "source": [
    "### Mô hình MultinomialNB()"
   ]
  },
  {
   "cell_type": "code",
   "execution_count": 10,
   "id": "ede18d50-e26e-466a-a772-8890e7bfdc68",
   "metadata": {},
   "outputs": [],
   "source": [
    "start = time.time()\n",
    "model_NB = MultinomialNB()\n",
    "model_NB.fit(msg_train, label_train)\n",
    "predict_NB = model_NB.predict(msg_test)\n",
    "end = time.time()"
   ]
  },
  {
   "cell_type": "code",
   "execution_count": 11,
   "id": "364f2fa5-010e-4add-bdd5-bd5a91d21b32",
   "metadata": {},
   "outputs": [
    {
     "name": "stdout",
     "output_type": "stream",
     "text": [
      "              precision    recall  f1-score   support\n",
      "\n",
      "           1       0.69      0.64      0.66       400\n",
      "           2       0.75      0.77      0.76       400\n",
      "           3       0.86      0.72      0.78       400\n",
      "           4       0.83      0.88      0.85       400\n",
      "           5       0.78      0.79      0.79       400\n",
      "           6       0.77      0.76      0.77       400\n",
      "           7       0.80      0.77      0.78       400\n",
      "           8       0.74      0.78      0.76       400\n",
      "           9       0.91      0.91      0.91       400\n",
      "          10       0.64      0.73      0.68       400\n",
      "\n",
      "    accuracy                           0.77      4000\n",
      "   macro avg       0.78      0.77      0.77      4000\n",
      "weighted avg       0.78      0.77      0.77      4000\n",
      "\n",
      "Thời gian chạy: 0.021994829177856445s\n"
     ]
    }
   ],
   "source": [
    "print(classification_report(label_test, predict_NB))\n",
    "print('Thời gian chạy:', f'{(end - start)}'+'s')"
   ]
  },
  {
   "cell_type": "markdown",
   "id": "1215eb55-ca68-43d7-8103-66d9eb1d1bac",
   "metadata": {},
   "source": [
    "### So sánh hai mô hình"
   ]
  },
  {
   "cell_type": "code",
   "execution_count": 32,
   "id": "c022a324-5a7b-47d1-8039-6009061073cb",
   "metadata": {},
   "outputs": [
    {
     "data": {
      "image/png": "[encoded data removed]",
      "text/plain": [
       "<Figure size 432x288 with 2 Axes>"
      ]
     },
     "metadata": {
      "needs_background": "light"
     },
     "output_type": "display_data"
    },
    {
     "data": {
      "image/png": "[encoded data removed]",
      "text/plain": [
       "<Figure size 432x288 with 2 Axes>"
      ]
     },
     "metadata": {
      "needs_background": "light"
     },
     "output_type": "display_data"
    }
   ],
   "source": [
    "# from sklearn.metrics import plot_confusion_matrix\n",
    "from sklearn.metrics import ConfusionMatrixDisplay, confusion_matrix\n",
    "# plot_confusion_matrix(model, msg_test, label_test)\n",
    "cm = confusion_matrix(label_test, predict, labels=model.classes_)\n",
    "disp = ConfusionMatrixDisplay(confusion_matrix=cm, display_labels=model.classes_)\n",
    "disp.plot()\n",
    "plt.title(\"Mô hình SVM\")\n",
    "plt.savefig('images/model_SVM.png')\n",
    "plt.show()\n",
    "\n",
    "cm_NB = confusion_matrix(label_test, predict_NB, labels=model_NB.classes_)\n",
    "disp_NB = ConfusionMatrixDisplay(confusion_matrix=cm_NB, display_labels=model_NB.classes_)\n",
    "disp_NB.plot()\n",
    "plt.title(\"Mô hình MultinomialNB\")\n",
    "plt.savefig('images/model_NB.png')\n",
    "plt.show()"
   ]
  },
  {
   "cell_type": "markdown",
   "id": "b1320c50-2924-4937-ab95-ec92730ee184",
   "metadata": {},
   "source": [
    "### Save model SVM"
   ]
  },
  {
   "cell_type": "code",
   "execution_count": 12,
   "id": "07774c97-2924-4446-b03d-cf0079f5b136",
   "metadata": {},
   "outputs": [],
   "source": [
    "stratified = StratifiedShuffleSplit(test_size=0.2)\n",
    "for train_index, test_index in stratified.split(df['title'], df['label']):\n",
    "    strat_train_set = df.loc[train_index]\n",
    "    strat_test_set = df.loc[test_index]\n",
    "msg_train, label_train = strat_train_set['title'], strat_train_set['label']\n",
    "msg_test, label_test = strat_test_set['title'], strat_test_set['label']\n",
    "\n",
    "pipeline = Pipeline([\n",
    "    ('bow', CountVectorizer(analyzer=text_process)),\n",
    "    ('tfidf', TfidfTransformer()),\n",
    "    ('model', SVC(kernel='rbf', C=2.0, probability=True))\n",
    "])\n",
    "pipeline.fit(msg_train, label_train)\n",
    "# Save model\n",
    "pickle.dump(pipeline, open(r'model_SVC.sav', 'wb'))"
   ]
  },
  {
   "cell_type": "markdown",
   "id": "d9844ff4-c587-47b6-b5c8-2535d7c88985",
   "metadata": {},
   "source": [
    "### Classification multi-label"
   ]
  },
  {
   "cell_type": "code",
   "execution_count": 13,
   "id": "55559862-1a0b-45ed-b14d-a03e19e4b132",
   "metadata": {},
   "outputs": [
    {
     "name": "stdout",
     "output_type": "stream",
     "text": [
      "Dự đoán đa nhãn của 50 ví dụ đầu tiên trong tập test:\n",
      "['Du lịch', 'Kinh doanh']\n",
      "['Pháp luật']\n",
      "['Khoa học']\n",
      "['Pháp luật']\n",
      "['Giáo dục']\n",
      "['Thời sự']\n",
      "['Đời sống', 'Pháp luật']\n",
      "['Du lịch']\n",
      "['Kinh doanh']\n",
      "['Sức khỏe']\n",
      "['Giáo dục']\n",
      "['Thời sự']\n",
      "['Sức khỏe']\n",
      "['Kinh doanh']\n",
      "['Khoa học']\n",
      "['Khoa học', 'Thời sự']\n",
      "['Thể thao']\n",
      "['Giải trí']\n",
      "['Khoa học']\n",
      "['Du lịch', 'Khoa học']\n",
      "['Sức khỏe', 'Thời sự']\n",
      "['Đời sống']\n",
      "['Đời sống']\n",
      "['Giáo dục']\n",
      "['Du lịch']\n",
      "['Giải trí']\n",
      "['Đời sống', 'Sức khỏe']\n",
      "['Đời sống', 'Pháp luật']\n",
      "['Thời sự']\n",
      "['Du lịch']\n",
      "['Đời sống', 'Pháp luật']\n",
      "['Đời sống', 'Du lịch']\n",
      "['Khoa học']\n",
      "['Thời sự']\n",
      "['Giáo dục']\n",
      "['Pháp luật']\n",
      "['Giáo dục']\n",
      "['Giáo dục']\n",
      "['Sức khỏe']\n",
      "['Đời sống']\n",
      "['Kinh doanh']\n",
      "['Sức khỏe']\n",
      "['Sức khỏe']\n",
      "['Đời sống']\n",
      "['Pháp luật']\n",
      "['Kinh doanh']\n",
      "['Du lịch']\n",
      "['Pháp luật']\n",
      "['Khoa học', 'Kinh doanh']\n",
      "['Sức khỏe', 'Thời sự']\n",
      "\n",
      "Tỉ lệ mẫu multi-label là: 14.0%\n"
     ]
    }
   ],
   "source": [
    "predict = pipeline.predict_proba(msg_test)\n",
    "from TextPreprocess import predicts\n",
    "def predictMultiLabel(predict):\n",
    "    a = []\n",
    "    for i in range(10):\n",
    "        if predict[i] >= 2.5e-01:\n",
    "            a.append(predicts([i+1]))\n",
    "    if len(a) == 0:\n",
    "        a.append(predicts(predict.argmax() + 1))\n",
    "    return a\n",
    "print('Dự đoán đa nhãn của 50 ví dụ đầu tiên trong tập test:')\n",
    "for i in range(50):\n",
    "    print(predictMultiLabel(predict[i, :]))\n",
    "\n",
    "multi_label = []\n",
    "x = 0\n",
    "for i in range(400):\n",
    "    b = predictMultiLabel(predict[i, :])\n",
    "    multi_label.append(b)\n",
    "    if len(b) >= 2:\n",
    "        x += 1\n",
    "print('\\nTỉ lệ mẫu multi-label là:', f'{x/4}' + '%')"
   ]
  },
  {
   "cell_type": "markdown",
   "id": "1cd541e2-73c1-4015-9330-6570fa9de3f1",
   "metadata": {},
   "source": [
    "### Thử nghiệm mô hình với tập dữ liệu hoàn toàn mới"
   ]
  },
  {
   "cell_type": "code",
   "execution_count": 17,
   "id": "6385b613-b089-44b2-b7e3-1217d79dae1f",
   "metadata": {},
   "outputs": [
    {
     "name": "stdout",
     "output_type": "stream",
     "text": [
      "              precision    recall  f1-score   support\n",
      "\n",
      "           1       0.60      0.66      0.63       200\n",
      "           2       0.68      0.85      0.75       200\n",
      "           3       0.79      0.78      0.78       200\n",
      "           4       0.96      0.75      0.84       200\n",
      "           5       0.79      0.85      0.82       200\n",
      "           6       0.80      0.73      0.77       200\n",
      "           7       0.80      0.88      0.84       200\n",
      "           8       0.79      0.85      0.82       200\n",
      "           9       0.97      0.87      0.92       200\n",
      "          10       0.73      0.57      0.64       200\n",
      "\n",
      "    accuracy                           0.78      2000\n",
      "   macro avg       0.79      0.78      0.78      2000\n",
      "weighted avg       0.79      0.78      0.78      2000\n",
      "\n"
     ]
    }
   ],
   "source": [
    "df = pd.read_csv(r'data/datanew/data.csv', names=['label', 'title'], encoding='utf-8')\n",
    "predict_new = pipeline.predict(df['title'])\n",
    "print(classification_report(df['label'], predict_new))"
   ]
  },
  {
   "cell_type": "markdown",
   "id": "a30abee9-ec80-4c0a-a828-ab204fbb0210",
   "metadata": {},
   "source": [
    "# Done :))"
   ]
  }
 ],
 "metadata": {
  "kernelspec": {
   "display_name": "Python 3 (ipykernel)",
   "language": "python",
   "name": "python3"
  },
  "language_info": {
   "codemirror_mode": {
    "name": "ipython",
    "version": 3
   },
   "file_extension": ".py",
   "mimetype": "text/x-python",
   "name": "python",
   "nbconvert_exporter": "python",
   "pygments_lexer": "ipython3",
   "version": "3.8.8rc1"
  }
 },
 "nbformat": 4,
 "nbformat_minor": 5
}
